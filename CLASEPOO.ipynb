{
  "nbformat": 4,
  "nbformat_minor": 0,
  "metadata": {
    "colab": {
      "provenance": []
    },
    "kernelspec": {
      "name": "python3",
      "display_name": "Python 3"
    },
    "language_info": {
      "name": "python"
    }
  },
  "cells": [
    {
      "cell_type": "code",
      "source": [
        "class Fraccion:\n",
        "  def __init__(self,num,den,pot):\n",
        "    self.num=num\n",
        "    self.den=den\n",
        "    self.pot=pot\n",
        "  \n",
        "  def potencia(self):\n",
        "    num=self.num**self.pot\n",
        "    den=self.den**self.pot\n",
        "    pot=self.pot\n",
        "    c=Fraccion(num,den,pot)\n",
        "    print(f'{c.num}/{c.den}')\n",
        "    return c\n",
        "  def suma(self,s):\n",
        "    if self.den==0 or s.den==0:\n",
        "      print(\"No se puede\")\n",
        "    else:\n",
        "      if self.den!=s.den:\n",
        "        num=(self.num*s.den)+(self.den*s.num)\n",
        "        den=self.den*s.den\n",
        "      else\n",
        "      num=(self.num*s.den)+(self.den*s.num)\n",
        "      den=self.den\n",
        "      f=Fraccion(num,den,1)\n",
        "      print(f'{f.num}/{f.den}')\n",
        "      return f\n",
        "---\n",
        "   def resta(self,s):\n",
        "    if self.den==0 or s.den==0:\n",
        "      print(\"No se puede\")\n",
        "    else:\n",
        "      if self.den!=s.den:\n",
        "        num=(self.num*s.den)-(self.den*s.num)\n",
        "        den=self.den*s.den\n",
        "      else\n",
        "      num=(self.num*s.den)-(self.den*s.num)\n",
        "      den=self.den\n",
        "      f=Fraccion(num,den,1)\n",
        "      print(f'{f.num}/{f.den}')\n",
        "      return f\n",
        "def div(self,c):\n",
        "  num=self.num*c.den\n",
        "  den=self.den*c.num\n",
        "  frac=Fraccion(num,den,1)\n",
        "  return f'{frac.num}/{grac.den}'"
      ],
      "metadata": {
        "id": "KLftYmpz4Gyd"
      },
      "execution_count": null,
      "outputs": []
    },
    {
      "cell_type": "code",
      "source": [
        "s=Fraccion(2,5,8)\n"
      ],
      "metadata": {
        "id": "1s9JhvKl4euk"
      },
      "execution_count": null,
      "outputs": []
    },
    {
      "cell_type": "code",
      "source": [
        "s.__dict__"
      ],
      "metadata": {
        "id": "0H8P5eqw4jS8"
      },
      "execution_count": null,
      "outputs": []
    },
    {
      "cell_type": "code",
      "source": [
        "s.potencia()"
      ],
      "metadata": {
        "id": "iqT9zjZ74l_8"
      },
      "execution_count": null,
      "outputs": []
    },
    {
      "cell_type": "code",
      "source": [
        "yo=t.resta(s)"
      ],
      "metadata": {
        "id": "Aaulq0nx48oU"
      },
      "execution_count": null,
      "outputs": []
    },
    {
      "cell_type": "code",
      "source": [
        "t.suma(s)"
      ],
      "metadata": {
        "id": "iZODWY9f5AUE"
      },
      "execution_count": null,
      "outputs": []
    },
    {
      "cell_type": "code",
      "source": [
        "t.prdoducto"
      ],
      "metadata": {
        "id": "u0VLHQ5e5Cfz"
      },
      "execution_count": null,
      "outputs": []
    },
    {
      "cell_type": "code",
      "source": [
        "a=t.div(s)"
      ],
      "metadata": {
        "id": "BBcMJ2Ye5Eeb"
      },
      "execution_count": null,
      "outputs": []
    },
    {
      "cell_type": "code",
      "source": [
        "print(a)"
      ],
      "metadata": {
        "id": "9ueCi6ho5GeD"
      },
      "execution_count": null,
      "outputs": []
    }
  ]
}