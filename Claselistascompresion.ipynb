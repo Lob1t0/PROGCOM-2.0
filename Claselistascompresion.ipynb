{
  "nbformat": 4,
  "nbformat_minor": 0,
  "metadata": {
    "colab": {
      "provenance": []
    },
    "kernelspec": {
      "name": "python3",
      "display_name": "Python 3"
    },
    "language_info": {
      "name": "python"
    }
  },
  "cells": [
    {
      "cell_type": "code",
      "source": [
        "nombre=['Juan']\n",
        "final=['@unab.edu.co']\n",
        "lista=[15,20,25,30,25,40]\n",
        "lista=[elemento * elemento for elemento in lista]\n",
        "print(nombre,lista,final)\n",
        "#Podemos observar varios correos que se podrian crear"
      ],
      "metadata": {
        "colab": {
          "base_uri": "https://localhost:8080/"
        },
        "id": "PXUcxEVevd7e",
        "outputId": "b8b2c083-4327-4761-e486-7f634283e3af"
      },
      "execution_count": 56,
      "outputs": [
        {
          "output_type": "stream",
          "name": "stdout",
          "text": [
            "['Juan'] [225, 400, 625, 900, 625, 1600] ['@unab.edu.co']\n"
          ]
        }
      ]
    },
    {
      "cell_type": "code",
      "source": [
        "inicial=['U0015741','A0004562','19508975']\n",
        "Unab=[u for u in inicial if u.startswith('U') ]\n",
        "print(Unab)\n",
        "ANDES=[ a for a in inicial if a.startswith('A000')]\n",
        "print(ANDES)\n",
        "UIS=[b for b in inicial if b.startswith('1950')]\n",
        "print(UIS)"
      ],
      "metadata": {
        "colab": {
          "base_uri": "https://localhost:8080/"
        },
        "id": "JE6-p1VKr-6n",
        "outputId": "7f352a4d-8671-44cd-8e75-adccc59256bb"
      },
      "execution_count": 35,
      "outputs": [
        {
          "output_type": "stream",
          "name": "stdout",
          "text": [
            "['U0015741']\n",
            "['A0004562']\n",
            "['19508975']\n"
          ]
        }
      ]
    }
  ]
}