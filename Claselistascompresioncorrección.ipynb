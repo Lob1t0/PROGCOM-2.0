{
  "nbformat": 4,
  "nbformat_minor": 0,
  "metadata": {
    "colab": {
      "provenance": []
    },
    "kernelspec": {
      "name": "python3",
      "display_name": "Python 3"
    },
    "language_info": {
      "name": "python"
    }
  },
  "cells": [
    {
      "cell_type": "code",
      "source": [
        "inicial=['U0015741','A0004562','19508975']\n",
        "Unab=[u for u in inicial if u.startswith('U') ]\n",
        "print(Unab)\n",
        "ANDES=[ a for a in inicial if a.startswith('A000')]\n",
        "print(ANDES)\n",
        "UIS=[b for b in inicial if b.startswith('1950')]\n",
        "print(UIS)"
      ],
      "metadata": {
        "colab": {
          "base_uri": "https://localhost:8080/"
        },
        "id": "JE6-p1VKr-6n",
        "outputId": "746fc548-468c-4c81-800d-2c931365d390"
      },
      "execution_count": 9,
      "outputs": [
        {
          "output_type": "stream",
          "name": "stdout",
          "text": [
            "['U0015741']\n",
            "['A0004562']\n",
            "['19508975']\n"
          ]
        }
      ]
    },
    {
      "cell_type": "code",
      "source": [
        "pares=[número for número in range(0,11) if número%2==0]\n",
        "print(pares)\n",
        "impares=[número for número in range(0,11) if número%2!=0]\n",
        "print(impares)"
      ],
      "metadata": {
        "id": "m6yMMIUdIc03"
      },
      "execution_count": null,
      "outputs": []
    }
  ]
}