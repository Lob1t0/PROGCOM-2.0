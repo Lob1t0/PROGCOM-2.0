{
  "nbformat": 4,
  "nbformat_minor": 0,
  "metadata": {
    "colab": {
      "provenance": [],
      "collapsed_sections": []
    },
    "kernelspec": {
      "name": "python3",
      "display_name": "Python 3"
    },
    "language_info": {
      "name": "python"
    }
  },
  "cells": [
    {
      "cell_type": "code",
      "execution_count": null,
      "metadata": {
        "id": "PK62Ax2ChNJt"
      },
      "outputs": [],
      "source": [
        "class Humanos:\n",
        "  def __init__(self,ojos,cabello,boca,orejas,nariz,dientes,lengua,pestanas,brazos,piernas,peso, altura,sexo,cuello,pie,rodilla,codo,hombro,cabeza,nombre):\n",
        "    self.ojos=ojos\n",
        "    self.cabello=cabello\n",
        "    self.boca=boca\n",
        "    self.orejas=orejas\n",
        "    self.nariz=nariz\n",
        "    self.dientes=dientes\n",
        "    self.lengua=lengua\n",
        "    self.pestanas=pestanas\n",
        "    self.brazos=brazos\n",
        "    self.piernas=piernas\n",
        "    self.peso=peso\n",
        "    self.altura=altura\n",
        "    self.sexo=sexo\n",
        "    self.cuello=cuello\n",
        "    self.pie=pie\n",
        "    self.rodilla=rodilla\n",
        "    self.codo=codo\n",
        "    self.hombro=hombro\n",
        "    self.cabeza=cabeza\n",
        "    self.nombre=nombre\n",
        "  def movilizarse(self,velocidad):\n",
        "    if velocidad==0:\n",
        "      return f\"{self.nombre},está en estado de reposo\"\n",
        "    if velocidad>=3 and velocidad<=5:\n",
        "      return f\"{self.nombre},está caminando\"\n",
        "    if velocidad>=6 and velocidad<=7:\n",
        "      return f\"{self.nombre},está caminando rapido\"\n",
        "    if velocidad>=8 and velocidad<=9:\n",
        "      return f\"{self.nombre},está trotanto\"\n",
        "    if velocidad>=10 and velocidad<=999:\n",
        "      return f\"{self.nombre},está corriendo\"\n",
        "    if velocidad>=1000 and velocidad<=1999:\n",
        "      return f\"{self.nombre},está usando el palo tao pai\"\n",
        "    if velocidad>=2000 and velocidad<=2999:\n",
        "      return f\"{self.nombre},está volando\"\n",
        "    if velocidad>=3000 and velocidad>=20000:\n",
        "      return f\"{self.nombre},está volando rapidamente\"\n",
        "    if velocidad==1000000000:\n",
        "      return f\"{self.nombre},está usando la teletransportación\"\n",
        "  \n",
        "  def trabajos(self,trabajo):\n",
        "    tr=[\"Desempleado\",\"Pandillero\",\"Comentarista\",\"Profesor\",\"Luchador\",\"Medico\"]\n",
        "    if tr[trabajo] in trabajo:\n",
        "      if trabajo==0:\n",
        "        print(self.nombre,\"esta\",tr[trabajo])\n",
        "      else:\n",
        "        print(self.nombre,\"es\",tr[trabajo])\n",
        "\n",
        "\n",
        "\n",
        "  "
      ]
    },
    {
      "cell_type": "code",
      "source": [
        "class Sayayin:\n",
        "  def __init__(self,ojos,cabello,boca,orejas,nariz,dientes,lengua,pestanas,brazos,piernas,peso, altura,sexo,cuello,pie,rodilla,codo,hombro,cabeza,Rh,nombre):\n",
        "    self.ojos=ojos\n",
        "    self.cojos=\"negros\"\n",
        "    self.cabello=cabello\n",
        "    self.boca=boca\n",
        "    self.orejas=orejas\n",
        "    self.nariz=nariz\n",
        "    self.dientes=dientes\n",
        "    self.lengua=lengua\n",
        "    self.pestanas=pestanas\n",
        "    self.brazos=brazos\n",
        "    self.piernas=piernas\n",
        "    self.peso=peso\n",
        "    self.altura=altura\n",
        "    self.sexo=sexo\n",
        "    self.cuello=cuello\n",
        "    self.pie=pie\n",
        "    self.rodilla=rodilla\n",
        "    self.codo=codo\n",
        "    self.hombro=hombro\n",
        "    self.cabeza=cabeza\n",
        "    self.Rh=Rh\n",
        "    self.nombre=nombre\n",
        "    self.cola_de_mono=True\n",
        "  def movilizarse(self,velocidad):\n",
        "    if velocidad==0:\n",
        "      return f\"{self.nombre},está en estado de reposo\"\n",
        "    if velocidad>=3 and velocidad<=5:\n",
        "      return f\"{self.nombre},está caminando\"\n",
        "    if velocidad>=6 and velocidad<=7:\n",
        "      return f\"{self.nombre},está caminando rapido\"\n",
        "    if velocidad>=8 and velocidad<=9:\n",
        "      return f\"{self.nombre},está trotanto\"\n",
        "    if velocidad>=10 and velocidad<=999:\n",
        "      return f\"{self.nombre},está corriendo\"\n",
        "    if velocidad>=2000 and velocidad<=2999:\n",
        "      return f\"{self.nombre},está volando\"\n",
        "    if velocidad>=3000 and velocidad>=800000:\n",
        "      return f\"{self.nombre},está volando rapidamente\"\n",
        "    if velocidad==1000000000:\n",
        "      return f\"{self.nombre},está usando la teletransportación\"\n",
        "  \n",
        "  def trabajos(self,trabajo):\n",
        "    tr=[\"Esclavo\",\"Mercenario\",\"Pilotos\",\"Luchadores\"]\n",
        "    if tr[trabajo] in trabajo:\n",
        "      if trabajo==0:\n",
        "        print(self.nombre,\"esta\",tr[trabajo])\n",
        "      else:\n",
        "        print(self.nombre,\"es\",tr[trabajo])\n",
        "\n",
        "  def luna(self,luna):\n",
        "    if luna and self.cola_de_mono:\n",
        "      print(self.nombre,\"se va a transformar en mono gigante\")\n",
        "    elif luna and self.cola_de_mono==False:\n",
        "      print(self.nombre,\"no se va a transformar en mono gigante\")\n",
        "    else:\n",
        "      print(self.nombre,\"no se va a transformar en mono gigante\")"
      ],
      "metadata": {
        "id": "1tTicS8LsMV5"
      },
      "execution_count": null,
      "outputs": []
    },
    {
      "cell_type": "code",
      "source": [
        "class Hibridos(Sayayin,Humanos):\n",
        "  pass"
      ],
      "metadata": {
        "id": "AF0wBPo9vPgz"
      },
      "execution_count": null,
      "outputs": []
    },
    {
      "cell_type": "code",
      "source": [
        "gohan=Hibridos(2,\"largo\",1,2,1,32,1,320,2,2,80,1.80,\"Hombre\",1,2,2,2,2,2,\"Gohan\")"
      ],
      "metadata": {
        "id": "1qwaQMc1vbsh"
      },
      "execution_count": null,
      "outputs": []
    },
    {
      "cell_type": "code",
      "source": [
        "Gohan.luna(True)"
      ],
      "metadata": {
        "id": "zH_0YNVpwwSI"
      },
      "execution_count": null,
      "outputs": []
    },
    {
      "cell_type": "markdown",
      "source": [
        "nombre=str(input(\"Ingresa tu nombre: \"))\n",
        "velocidad=int(input(\"Ingresa tu velocidad: \"))\n",
        "humano1=Humanos(ojos,cabello,boca,orejas,nariz,dientes,lengua,pestanas,brazos,piernas,peso, altura,sexo,cuello,pie,rodilla,codo,hombro,cabeza,Rh,nombresle)\n",
        "vel=humano1.movilizarse(velocidad)\n",
        "print(vel)"
      ],
      "metadata": {
        "id": "9cI1jMbrqvdr"
      }
    }
  ]
}