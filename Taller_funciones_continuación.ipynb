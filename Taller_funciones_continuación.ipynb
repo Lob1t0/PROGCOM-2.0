{
  "nbformat": 4,
  "nbformat_minor": 0,
  "metadata": {
    "colab": {
      "provenance": [],
      "collapsed_sections": []
    },
    "kernelspec": {
      "name": "python3",
      "display_name": "Python 3"
    },
    "language_info": {
      "name": "python"
    }
  },
  "cells": [
    {
      "cell_type": "markdown",
      "source": [
        "#Ejercicio 1"
      ],
      "metadata": {
        "id": "HQZStGexb0np"
      }
    },
    {
      "cell_type": "code",
      "execution_count": null,
      "metadata": {
        "id": "BsSWgxz6Z7zO"
      },
      "outputs": [],
      "source": [
        "número1=int(input(\"Ingrese el primer número: \"))\n",
        "número2=int(input(\"Ingrese el primer número: \"))\n",
        "def Elmayor(número1,número2):\n",
        "  if número1<número2:\n",
        "    print(\"El mayor es el número 2\")\n",
        "  if número1>número2:\n",
        "    print(\"El mayor es el número 1\")\n",
        "  if número1==número2:\n",
        "    print(\"Son iguales\")\n",
        "Elmayor(número1,número2)"
      ]
    },
    {
      "cell_type": "markdown",
      "source": [
        "#Ejercicio 2"
      ],
      "metadata": {
        "id": "KNSp5qk2b4mQ"
      }
    },
    {
      "cell_type": "code",
      "source": [
        "número1=int(input(\"Ingrese el primer número: \"))\n",
        "número2=int(input(\"Ingrese el primer número: \"))\n",
        "número3=int(input(\"Ingrese el primer número: \"))\n",
        "def Elmenor(número1,número2,número3):\n",
        "  if número1>número2 and número1>número3:\n",
        "    print(f\"{número1} es el mayor\")\n",
        "  if número2>número1 and número2>número3:\n",
        "    print(f\"{número2} es el mayor\")\n",
        "  if número3>número1 and número3>número2:\n",
        "    print(f\"{número3} es el mayor\")\n",
        "  if número1==número2==número3:\n",
        "    print(\"Son iguales\")\n",
        "Elmenor(número1,número2,número3)"
      ],
      "metadata": {
        "id": "HOWUHOpjb7Xf"
      },
      "execution_count": null,
      "outputs": []
    },
    {
      "cell_type": "markdown",
      "source": [
        "#Ejercicio 3"
      ],
      "metadata": {
        "id": "5lXcIY9HebiL"
      }
    },
    {
      "cell_type": "code",
      "source": [
        "número1=int(input(\"Ingrese el primer número: \"))\n",
        "número2=int(input(\"Ingrese el primer número: \"))\n",
        "número3=int(input(\"Ingrese el primer número: \"))\n",
        "lasuma=[número1,número2,número3]\n",
        "def sumar(z):\n",
        "  suma=[número1 + número2 + número3]\n",
        "  print(f\"La suma de los números escogidos son: {suma}\")\n",
        "sumar(lasuma)"
      ],
      "metadata": {
        "id": "AZlhNh9jedx6"
      },
      "execution_count": null,
      "outputs": []
    },
    {
      "cell_type": "markdown",
      "source": [
        "#Ejercicio 4"
      ],
      "metadata": {
        "id": "leTurlmOga4_"
      }
    },
    {
      "cell_type": "code",
      "source": [
        "número1=int(input(\"Ingrese el primer número: \"))\n",
        "número2=int(input(\"Ingrese el primer número: \"))\n",
        "número3=int(input(\"Ingrese el primer número: \"))\n",
        "número4=int(input(\"Ingrese el primer número: \"))\n",
        "lasuma=[número1,número2,número3]\n",
        "def sumar(z):\n",
        "  suma=[número1 + número2 + número3 + número4]\n",
        "  print(f\"La suma de los números escogidos son: {suma}\")\n",
        "sumar(lasuma)"
      ],
      "metadata": {
        "id": "6JTG6hsGgc7f"
      },
      "execution_count": null,
      "outputs": []
    },
    {
      "cell_type": "markdown",
      "source": [
        "#Ejercicio 5"
      ],
      "metadata": {
        "id": "EYTSFX5wgnYe"
      }
    },
    {
      "cell_type": "code",
      "source": [
        "calcular=int(input(\"Ingrese la cantidad que desea calcular: \"))\n",
        "def lasuma(z):\n",
        "  LISTA=[]\n",
        "  suma=0\n",
        "  for i in range(0,z):\n",
        "    cantidad=int(input(\"Ingrese un número: \"))\n",
        "    LISTA.append(cantidad)\n",
        "    suma=suma+LISTA[i]\n",
        "    print(LISTA)\n",
        "  print(\"La suma dio como resultado\",suma)\n",
        "lasuma(calcular)\n",
        " "
      ],
      "metadata": {
        "id": "F7M7iU_FgpVW"
      },
      "execution_count": null,
      "outputs": []
    },
    {
      "cell_type": "markdown",
      "source": [
        "#Ejercicio 6"
      ],
      "metadata": {
        "id": "5QZeDs5RjjY0"
      }
    },
    {
      "cell_type": "code",
      "source": [
        "número1=int(input(\"Ingrese el primer número: \"))\n",
        "número2=int(input(\"Ingrese el primer número: \"))\n",
        "número3=int(input(\"Ingrese el primer número: \"))\n",
        "lamulti=[número1,número2,número3]\n",
        "def multis(z):\n",
        "  multi=[número1 * número2 * número3]\n",
        "  print(f\"La multiplicación de los números escogidos son: {multi}\")\n",
        "multis (lamulti)"
      ],
      "metadata": {
        "id": "Yi_O3TMLjlXc"
      },
      "execution_count": null,
      "outputs": []
    },
    {
      "cell_type": "markdown",
      "source": [
        "#Ejercicio 7"
      ],
      "metadata": {
        "id": "pCNloTA8kVEt"
      }
    },
    {
      "cell_type": "code",
      "source": [
        "número1=int(input(\"Ingrese el primer número: \"))\n",
        "número2=int(input(\"Ingrese el primer número: \"))\n",
        "número3=int(input(\"Ingrese el primer número: \"))\n",
        "número4=int(input(\"Ingrese el primer número: \"))\n",
        "lamulti=[número1,número2,número3]\n",
        "def multis(z):\n",
        "  multi=[número1 * número2 * número3 * número4]\n",
        "  print(f\"La multiplicación de los números escogidos son: {multi}\")\n",
        "multis (lamulti)"
      ],
      "metadata": {
        "id": "xP6kQJVikXIM"
      },
      "execution_count": null,
      "outputs": []
    },
    {
      "cell_type": "markdown",
      "source": [
        "#Ejercicio 8"
      ],
      "metadata": {
        "id": "fMkdIQSdpHVL"
      }
    },
    {
      "cell_type": "code",
      "source": [
        "calcular=int(input(\"Ingrese la cantidad que desea calcular: \"))\n",
        "def lamultipli(z):\n",
        "  LISTA=[]\n",
        "  multiplicación=1\n",
        "  for i in range(0,z):\n",
        "    cantidad=int(input(\"Ingrese un número: \"))\n",
        "    LISTA.append(cantidad)\n",
        "    multiplicación=multiplicación*LISTA[i]\n",
        "    print(LISTA)\n",
        "  print(\"La suma dio como resultado\",multiplicación)\n",
        "lamultipli(calcular)"
      ],
      "metadata": {
        "id": "dBwUmDirpJNC"
      },
      "execution_count": null,
      "outputs": []
    },
    {
      "cell_type": "markdown",
      "source": [
        "#Ejercicio 9"
      ],
      "metadata": {
        "id": "jxUYrzq8k9nI"
      }
    },
    {
      "cell_type": "code",
      "source": [
        "tufrase=str(input(\"Pon tu frase: \"))\n",
        "tufrase1=len(tufrase)\n",
        "tufrase2=tufrase[tufrase1::-1] \n",
        "print(f\"Tu frase es: {tufrase}\")\n",
        "print(f\"Tu frase al revés es: {tufrase2}\")\n",
        "\n"
      ],
      "metadata": {
        "id": "e3ueVr1IvaNs"
      },
      "execution_count": null,
      "outputs": []
    },
    {
      "cell_type": "markdown",
      "source": [
        "#Ejercicio 10"
      ],
      "metadata": {
        "id": "HvvcgGlIxGBK"
      }
    },
    {
      "cell_type": "code",
      "source": [
        "número=int(input(\"Ingrese un número: \"))\n",
        "def factorial (z):\n",
        "  n=1\n",
        "  for i in range (0,número):\n",
        "    n=n*(i+1)\n",
        "  print(f\"El resultado del factorial de {número} es: {n}\")\n",
        "factorial(número)\n"
      ],
      "metadata": {
        "id": "T_SnSIXgxIH6"
      },
      "execution_count": null,
      "outputs": []
    },
    {
      "cell_type": "markdown",
      "source": [
        "#Ejercicio 11\n"
      ],
      "metadata": {
        "id": "UsHaTt6IDdUu"
      }
    },
    {
      "cell_type": "code",
      "source": [
        "print(\"Este programa maneja el rango cerrado\")\n",
        "número=int(input(\"Ingrese un número: \"))\n",
        "Inicio=int(input(\"Ingrese el número incial: \"))\n",
        "Final=int(input(\"Ingrese el número final: \"))\n",
        "def elrango(je):\n",
        "  if número>=Inicio and número<=Final:\n",
        "    print(f\"El número {número} esta dentro del rango porque el número inicial es {Inicio} y el número final es {Final}\")\n",
        "  else:\n",
        "    print(f\"El número {número} no esta dentro del rango porque el número inicial es {Inicio} y el número final es {Final}\")\n",
        "elrango(número)\n",
        "\n",
        "  "
      ],
      "metadata": {
        "id": "1L068OrgDfdG"
      },
      "execution_count": null,
      "outputs": []
    },
    {
      "cell_type": "markdown",
      "source": [
        "#Ejercicio 12"
      ],
      "metadata": {
        "id": "D0hOAg8zHPkB"
      }
    },
    {
      "cell_type": "code",
      "source": [
        "Frase=str(input(\"Ingresa tu oración: \"))\n",
        "def rango(Str):\n",
        "  M=0\n",
        "  m=0\n",
        "  for a in Str:\n",
        "    l=a\n",
        "    if l==a.lower():\n",
        "      m+=1\n",
        "    else:\n",
        "      M+=1\n",
        "  print(\"Mayúsculas\",M)\n",
        "  print(\"Minúsculas\",m)\n",
        "rango(Frase)"
      ],
      "metadata": {
        "id": "vqiecZ3xHTkP"
      },
      "execution_count": null,
      "outputs": []
    },
    {
      "cell_type": "markdown",
      "source": [
        "#Ejercicio 13"
      ],
      "metadata": {
        "id": "8KZgw1f8PptG"
      }
    },
    {
      "cell_type": "code",
      "source": [
        "Frase=str(input(\"Ingresa tu oración: \"))\n",
        "def rango(Str):\n",
        "  Eldic={\"Mayúsculas\":0,\"Minúsculas\":0}\n",
        "  for a in Str:\n",
        "    l=a\n",
        "    if l==a.lower():\n",
        "      Eldic[\"Minúsculas\"]+=1\n",
        "    else:\n",
        "      Eldic[\"Mayúsculas\"]+=1\n",
        "  return Eldic\n",
        "rango(Frase)\n"
      ],
      "metadata": {
        "id": "IgR3v-hfPsUc"
      },
      "execution_count": null,
      "outputs": []
    },
    {
      "cell_type": "markdown",
      "source": [
        "#Ejercicio 14"
      ],
      "metadata": {
        "id": "gqTJiWRaSN4y"
      }
    },
    {
      "cell_type": "code",
      "source": [
        "número=int(input(\"Ingrese el tamaño de tu lista: \"))\n",
        "def Par(b):\n",
        "  Lalista=[]\n",
        "  Lalistapar=[]\n",
        "  for i in range(0,b):\n",
        "    número=int(input(\"Ingrese un número: \"))\n",
        "    Lalista.append(número)\n",
        "    if número%2==0:\n",
        "      Lalistapar.append(número)\n",
        "  print(Lalista)\n",
        "  print(\"Lalistapar:\")\n",
        "  print(Lalistapar)\n",
        "Par(número)"
      ],
      "metadata": {
        "id": "hZvtwT9eSPlZ"
      },
      "execution_count": null,
      "outputs": []
    },
    {
      "cell_type": "markdown",
      "source": [
        "#Ejercicio 15"
      ],
      "metadata": {
        "id": "kH4DyYskXTKX"
      }
    },
    {
      "cell_type": "code",
      "source": [
        "Frase=str(input(\"Ingresa tu oración: \"))\n",
        "def rango(A):\n",
        "  Lalista=[]\n",
        "  for a in range(len(A)):\n",
        "    l=A[a]\n",
        "    if a%2==0:\n",
        "      Lalista.append(l)\n",
        "  return Lalista\n",
        "rango(Frase)"
      ],
      "metadata": {
        "id": "iLkehdTNXVev"
      },
      "execution_count": null,
      "outputs": []
    },
    {
      "cell_type": "markdown",
      "source": [
        "#Ejercicio 16"
      ],
      "metadata": {
        "id": "hpPH2y9HaU5m"
      }
    },
    {
      "cell_type": "code",
      "source": [
        "número=int(input(\"Ingrese un número: \"))\n",
        "\n",
        "def Perfecto(b):\n",
        "  per=0\n",
        "  for x in range(1,b):\n",
        "    if b%(x)==0:\n",
        "      print(x)\n",
        "      per+=x\n",
        "  if per==b:\n",
        "    print(f\"{b} es un número perfecto\")\n",
        "  else:\n",
        "    print(f\"{b} no es un número perfecto\")\n",
        "\n",
        "Perfecto(número)"
      ],
      "metadata": {
        "id": "9cVDQWrlaW_G"
      },
      "execution_count": null,
      "outputs": []
    },
    {
      "cell_type": "markdown",
      "source": [
        "#Ejercicio 17"
      ],
      "metadata": {
        "id": "RMsb6m9_gUwa"
      }
    },
    {
      "cell_type": "code",
      "source": [
        "p=str(input(\"Ingrese una palabra: \"))\n",
        "def Pali(zz):\n",
        "  zz=zz.upper()\n",
        "\n",
        "  if (zz) == (zz)[::-1] :\n",
        "    print(\"Es un palíndromo\")\n",
        "  else:\n",
        "    print(\"No es un palíndromo\")\n",
        "Pali(p)"
      ],
      "metadata": {
        "id": "aN-gDbvpgW3q"
      },
      "execution_count": null,
      "outputs": []
    },
    {
      "cell_type": "markdown",
      "source": [
        "#Ejercicio 18"
      ],
      "metadata": {
        "id": "TQvpATqDg-lT"
      }
    },
    {
      "cell_type": "code",
      "source": [],
      "metadata": {
        "id": "rJp63hOzhBMb"
      },
      "execution_count": null,
      "outputs": []
    },
    {
      "cell_type": "markdown",
      "source": [
        "#Ejercicio 19"
      ],
      "metadata": {
        "id": "CJYXqaYji62w"
      }
    },
    {
      "cell_type": "code",
      "source": [
        "Texto=str(input(\"Ingresa tu oración: \"))\n",
        "def orac(z):\n",
        "  z=z.lower()\n",
        "  mayus=z[0]\n",
        "  mayus=mayus.upper()\n",
        "  Zz=z.replace(z[0],mayus)\n",
        "  frase=(Zz+\".\")\n",
        "  print(frase)\n",
        "orac(Texto)"
      ],
      "metadata": {
        "id": "bU35VEB8i9pv"
      },
      "execution_count": null,
      "outputs": []
    }
  ]
}