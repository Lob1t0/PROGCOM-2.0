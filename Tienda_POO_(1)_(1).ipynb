{
  "cells": [
    {
      "cell_type": "code",
      "execution_count": 39,
      "metadata": {
        "id": "DA4pqnyMk8FX"
      },
      "outputs": [],
      "source": [
        "class Producto():\n",
        "  def __init__(self,producto,precio,unidad):\n",
        "    self.producto=producto\n",
        "    self.precio=precio\n",
        "    self.unidad=unidad\n",
        "\n",
        "class Carro():\n",
        "   def __init__(self,lista=[]):\n",
        "     self.lista=[]\n",
        "   def carro(self,a):\n",
        "     for b in self.lista:\n",
        "       if b.producto==a.producto:\n",
        "         self.lista.remove(b)\n",
        "     self.lista.append(a)\n",
        "   def revisar(self):\n",
        "     tot=0\n",
        "     for a in self.lista:\n",
        "       print(f\"{a.producto} x{a.unidad} valor: ${a.precio} por unidad\")  \n",
        "       tot=tot+a.precio*a.unidad\n",
        "     print(f\"Total: {tot}\")\n",
        "     return tot\n",
        "class Factura(Carro):\n",
        "  def factura(self,compra1):\n",
        "    print(\"||| FACTURA |||\")\n",
        "    tot=compra1.revisar()\n",
        "    if tot>200:\n",
        "     print(\"Impuesto || 10%  || porque superaste los 200\")\n",
        "     print(f\"TOTAL : {round(tot*1.10,2)}\")\n",
        "\n",
        "\n",
        "\n",
        "\n",
        "\n",
        "\n",
        "\n",
        "\n"
      ]
    },
    {
      "cell_type": "code",
      "execution_count": 12,
      "metadata": {
        "id": "l5UUtRsWIWC0"
      },
      "outputs": [],
      "source": []
    },
    {
      "cell_type": "code",
      "execution_count": 42,
      "metadata": {
        "id": "cm8ucRynSIwa",
        "colab": {
          "base_uri": "https://localhost:8080/"
        },
        "outputId": "a3996075-504e-4ad1-d192-f8b8f1e110ce"
      },
      "outputs": [
        {
          "output_type": "stream",
          "name": "stdout",
          "text": [
            "Electronica\n",
            "Jardinería\n",
            "Muebles\n",
            "De que ambito quiere comprar?: muebles\n",
            "\n",
            "Productos    De    Muebles\n",
            "Cama  $45    Mesa de noche  $30\n",
            "Armario  $50   Cama doble  $80\n",
            "Silla   $30 \n",
            "¿Que producto desea llevar?: silla\n",
            "silla: $30\n",
            "¿Cuantos o cuantas silla quiere?: 3\n",
            "¿Desea comprar algo mas?no\n",
            "||| FACTURA |||\n",
            "Silla x3 valor: $30 por unidad\n",
            "Total: 90\n",
            "Eres cliente prime pa?si\n",
            "Si tienes Prime no pagas envio\n"
          ]
        }
      ],
      "source": [
        "Electronica={\"computador\":15,\"mouse\":8,\"pantalla\":10,\"teclado\":5,\"mousepad\":3}\n",
        "Jardinería={\"motosierra\":40,\"aspresor\":30,\"cortasetos\":50,\"pala\":25,\"maceta\":15}\n",
        "Muebles={\"cama\":45,\"mesa de noche\":30,\"armario\":50,\"cama doble\":80,\"silla\":30}\n",
        "p=None\n",
        "o=\"s\"\n",
        "u=0\n",
        "\n",
        "compra1=Carro()\n",
        "while o!=\"no\":\n",
        " while u==0:\n",
        "  u=input(\"Electronica\\nJardinería\\nMuebles\\nDe que ambito quiere comprar?: \")\n",
        "  if u.lower()==\"electronica\":\n",
        "    while (p in Electronica)==False:\n",
        "     p=input(\"\\nProductos    De    Electronica\\nComputador  $15    Mouse  $8\\nPantalla  $10    Teclado  $5\\nMousepad   $3 \\n¿Que producto desea llevar?: \")\n",
        "     if (p in Electronica)==False:\n",
        "      print(\"NO TENEMOS ESE PRODUCTO EN NUESTRO CATÁLOGO\")\n",
        "    cash=Electronica[p.lower()]\n",
        "  elif u.lower()==\"jardinería\":\n",
        "    while (p in Jardinería)==False:\n",
        "     p=input(\"\\nProductos    De    Jardinería\\nMotosierra  $40    Aspresor  $30\\nCortasetos  $50    Pala  $25\\nMaceta   $15 \\n¿Que producto desea llevar?: \")\n",
        "     if (p in Jardinería)==False:\n",
        "      print(\"NO TENEMOS ESE PRODUCTO EN NUESTRO CATÁLOGO\")\n",
        "    cash=Jardinería[p.lower()]\n",
        "  elif u.lower()==\"muebles\":\n",
        "    while (p in Muebles)==False:\n",
        "     p=input(\"\\nProductos    De    Muebles\\nCama  $45    Mesa de noche  $30\\nArmario  $50   Cama doble  $80\\nSilla   $30 \\n¿Que producto desea llevar?: \")\n",
        "     if (p in Muebles)==False:\n",
        "      print(\"NO TENEMOS ESE TAMAÑO EN NUESTRO CATÁLOGO\")\n",
        "    cash=Muebles[p.lower()]\n",
        "  else:\n",
        "    print(\"No tenemos ese departamento\")\n",
        "    u=0\n",
        " if o.lower()==\"revisar\":\n",
        "   compra1.revisar()\n",
        " else:\n",
        "  print(f\"{p}: ${round(cash,2)}\")\n",
        "  n=int(input(f\"¿Cuantos o cuantas {p} quiere?: \"))\n",
        "  compra=Producto(p.capitalize(),cash,n)\n",
        "  compra.__dict__\n",
        " compra1.carro(compra)\n",
        " o=input(\"¿Desea comprar algo mas?\")\n",
        "factura=Factura(compra1)\n",
        "factura.factura(compra1)\n",
        "\n",
        "primo=str(input(\"Eres cliente prime pa?\"))\n",
        "if primo!=\"no\":\n",
        "  print(\"Si tienes Prime no pagas envio\")\n",
        "else:\n",
        "  print(\"Si no eres Prime sumale en valor de $15 a tu factura\")\n",
        "\n",
        "\n"
      ]
    }
  ],
  "metadata": {
    "colab": {
      "collapsed_sections": [],
      "provenance": []
    },
    "kernelspec": {
      "display_name": "Python 3",
      "name": "python3"
    },
    "language_info": {
      "name": "python"
    }
  },
  "nbformat": 4,
  "nbformat_minor": 0
}