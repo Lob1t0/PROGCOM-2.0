{
  "nbformat": 4,
  "nbformat_minor": 0,
  "metadata": {
    "colab": {
      "provenance": [],
      "collapsed_sections": []
    },
    "kernelspec": {
      "name": "python3",
      "display_name": "Python 3"
    },
    "language_info": {
      "name": "python"
    }
  },
  "cells": [
    {
      "cell_type": "code",
      "execution_count": 40,
      "metadata": {
        "colab": {
          "base_uri": "https://localhost:8080/"
        },
        "id": "T-FyOjXxhM9f",
        "outputId": "4cf40b61-847c-4780-cdda-8fb31eaef9cc"
      },
      "outputs": [
        {
          "output_type": "stream",
          "name": "stdout",
          "text": [
            "}><><><><><><><><><><><><><><><><><><><><><><><><><><><{\n",
            "Ingrese el nombre: Jesus\n",
            "Ingrese la edad: 18\n",
            "Ingrese la altura en centímetros: 170\n",
            "¿Qué quiere hacer? [Truco o trato]\n",
            "Ingrese la acción que desea realizar: trato\n",
            "14 dulces\n",
            "🍬🍫🍭🍭🧁🍬🧁🧁🍫🍬🧁🍬🍫🍫\n",
            "{'Elnombre': 'Jesus', 'Tuedad': 18, 'Tualtura': 170}\n",
            "}><><><><><><><><><><><><><><><><><><><><><><><><><><><{\n",
            "¿Hay más personas pidiendo dulces?\n",
            "Si->s / No->n: n\n",
            "Feliz Halloween🎃\n"
          ]
        }
      ],
      "source": [
        "import random\n",
        "import math\n",
        "emojis=\"🍭🍬🍫🧁\"\n",
        "\n",
        "class Persona():\n",
        "  def __init__(self,Elnombre,Tuedad,Tualtura,):\n",
        "    self.Elnombre=Elnombre\n",
        "    self.Tuedad=Tuedad\n",
        "    self.Tualtura=Tualtura\n",
        " \n",
        "  def opcion(self,accion):\n",
        "    if accion==\"truco\":\n",
        "      print(\"No existe lo que buscas\")\n",
        "      print(n1.__dict__)\n",
        "    elif accion==\"trato\":\n",
        "      contar=0\n",
        "      for i in self.Elnombre:\n",
        "        contar+=1\n",
        "      if self.Tuedad>=10:\n",
        "        contar+=3\n",
        "      else:\n",
        "        contar+=math.floor(self.Tuedad/3)\n",
        "      if self.Tualtura>=150:\n",
        "        contar+=6\n",
        "      else:\n",
        "            contar+=2*math.floor(self.Tualtura/50)\n",
        "\n",
        "      print(f'{contar} dulces')\n",
        "      print(\"\".join(random.choice(emojis) for i in range(contar)))\n",
        "      print(n1.__dict__)\n",
        "\n",
        "#------------------------------------------------------------------------------#\n",
        "\n",
        "while True:\n",
        "  print(\"}><><><><><><><><><><><><><><><><><><><><><><><><><><><{\")\n",
        "  name=str(input(\"Ingrese el nombre: \"))\n",
        "  name=name.capitalize()\n",
        "  age=int(input(\"Ingrese la edad: \"))\n",
        "  heigh=int(input(\"Ingrese la altura en centímetros: \"))\n",
        "  n1=Persona(name,age,heigh)\n",
        "  print(\"¿Qué quiere hacer? [Truco o trato]\")\n",
        "  a=str(input(\"Ingrese la acción que desea realizar: \"))\n",
        "  a=a.lower()\n",
        "  while a!=\"truco\" and a!=\"trato\":\n",
        "    a=str(input(\"Ingrese una acción válida: \"))\n",
        "    a=a.lower()\n",
        "  n1.opcion(a)\n",
        "  print(\"}><><><><><><><><><><><><><><><><><><><><><><><><><><><{\")\n",
        "  print(\"¿Hay más personas pidiendo dulces?\")\n",
        "  choice=str(input(\"Si->s / No->n: \"))\n",
        "  while choice!=\"s\" and choice!=\"n\":\n",
        "    print(\"Ingrese una opción válida\")\n",
        "    choice=str(input(\"Si->s / No->n: \"))\n",
        "  if choice==\"n\":\n",
        "    print(\"Feliz Halloween🎃\")\n",
        "    break\n"
      ]
    }
  ]
}