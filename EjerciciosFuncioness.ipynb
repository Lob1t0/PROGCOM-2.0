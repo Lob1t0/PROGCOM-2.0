{
  "nbformat": 4,
  "nbformat_minor": 0,
  "metadata": {
    "colab": {
      "provenance": []
    },
    "kernelspec": {
      "name": "python3",
      "display_name": "Python 3"
    },
    "language_info": {
      "name": "python"
    }
  },
  "cells": [
    {
      "cell_type": "code",
      "execution_count": 3,
      "metadata": {
        "colab": {
          "base_uri": "https://localhost:8080/",
          "height": 35
        },
        "id": "ZNO8Yj_dWATq",
        "outputId": "45588d3f-898f-4044-dad3-e24e87f26b36"
      },
      "outputs": [
        {
          "output_type": "execute_result",
          "data": {
            "text/plain": [
              "'Juana de Arco,deFrania,tiene19años de edad'"
            ],
            "application/vnd.google.colaboratory.intrinsic+json": {
              "type": "string"
            }
          },
          "metadata": {},
          "execution_count": 3
        }
      ],
      "source": [
        "def informacionPersonal():\n",
        "  nombre=\"Juana de Arco\"\n",
        "  edad=19\n",
        "  país=\"Frania\"\n",
        "  Información=(nombre+\",de\"+país+\",tiene\"+str(edad)+\"años de edad\")\n",
        "  return Información\n",
        "  \n",
        "informacionPersonal()"
      ]
    },
    {
      "cell_type": "code",
      "source": [
        "def calcularEdad(añoActual,mesActual,díaActual,añoNacimento,mesNacimiento,díaNacimiento):\n",
        "  edad=añoActual-añoNacimento\n",
        "  if mesNacimiento>mesActual or (mesNacimiento==mesActual and díaNacimiento>díaActual):\n",
        "    edad-=1\n",
        "  print(\"Su edad es de\",edad,\"años\")\n",
        "\n",
        "print(\"Fecha Actual\")\n",
        "fechaAño=int(input(\"Año actual: \"))\n",
        "fechaMes=int(input(\"Mes actual: \"))\n",
        "fechaDía=int(input(\"Día actual: \"))\n",
        "\n",
        "print(\"Fecha de nacimiento\")\n",
        "NaceAño=int(input(\"Año de nacimiento: \"))\n",
        "NaceMes=int(input(\"Mes de nacimiento: \"))\n",
        "NaceDía=int(input(\"Día de nacimiento: \"))\n",
        "\n",
        "calcularEdad(fechaAño,fechaMes,fechaDía,NaceAño,NaceMes,NaceDía)"
      ],
      "metadata": {
        "colab": {
          "base_uri": "https://localhost:8080/"
        },
        "id": "KOLUFLKEWLr0",
        "outputId": "2ac6cb46-a46f-4089-8604-d0b4d5516679"
      },
      "execution_count": 2,
      "outputs": [
        {
          "output_type": "stream",
          "name": "stdout",
          "text": [
            "Fecha Actual\n",
            "Año actual: 2022\n",
            "Mes actual: 9\n",
            "Día actual: 30\n",
            "Fecha de nacimiento\n",
            "Año de nacimiento: 2004\n",
            "Mes de nacimiento: 6\n",
            "Día de nacimiento: 10\n",
            "Su edad es de 18 años\n"
          ]
        }
      ]
    }
  ]
}