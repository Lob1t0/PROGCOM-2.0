{
  "nbformat": 4,
  "nbformat_minor": 0,
  "metadata": {
    "colab": {
      "provenance": [],
      "collapsed_sections": []
    },
    "kernelspec": {
      "name": "python3",
      "display_name": "Python 3"
    },
    "language_info": {
      "name": "python"
    }
  },
  "cells": [
    {
      "cell_type": "markdown",
      "source": [
        "#Ejercicio 1"
      ],
      "metadata": {
        "id": "HQZStGexb0np"
      }
    },
    {
      "cell_type": "code",
      "execution_count": null,
      "metadata": {
        "id": "BsSWgxz6Z7zO"
      },
      "outputs": [],
      "source": [
        "número1=int(input(\"Ingrese el primer número: \"))\n",
        "número2=int(input(\"Ingrese el primer número: \"))\n",
        "def Elmayor(número1,número2):\n",
        "  if número1<número2:\n",
        "    print(\"El mayor es el número 2\")\n",
        "  if número1>número2:\n",
        "    print(\"El mayor es el número 1\")\n",
        "  if número1==número2:\n",
        "    print(\"Son iguales\")\n",
        "Elmayor(número1,número2)"
      ]
    },
    {
      "cell_type": "markdown",
      "source": [
        "#Ejercicio 2"
      ],
      "metadata": {
        "id": "KNSp5qk2b4mQ"
      }
    },
    {
      "cell_type": "code",
      "source": [
        "número1=int(input(\"Ingrese el primer número: \"))\n",
        "número2=int(input(\"Ingrese el primer número: \"))\n",
        "número3=int(input(\"Ingrese el primer número: \"))\n",
        "def Elmenor(número1,número2,número3):\n",
        "  if número1>número2 and número1>número3:\n",
        "    print(f\"{número1} es el mayor\")\n",
        "  if número2>número1 and número2>número3:\n",
        "    print(f\"{número2} es el mayor\")\n",
        "  if número3>número1 and número3>número2:\n",
        "    print(f\"{número3} es el mayor\")\n",
        "  if número1==número2==número3:\n",
        "    print(\"Son iguales\")\n",
        "Elmenor(número1,número2,número3)"
      ],
      "metadata": {
        "id": "HOWUHOpjb7Xf"
      },
      "execution_count": null,
      "outputs": []
    },
    {
      "cell_type": "markdown",
      "source": [
        "#Ejercicio 3"
      ],
      "metadata": {
        "id": "5lXcIY9HebiL"
      }
    },
    {
      "cell_type": "code",
      "source": [
        "número1=int(input(\"Ingrese el primer número: \"))\n",
        "número2=int(input(\"Ingrese el primer número: \"))\n",
        "número3=int(input(\"Ingrese el primer número: \"))\n",
        "lasuma=[número1,número2,número3]\n",
        "def sumar(z):\n",
        "  suma=[número1 + número2 + número3]\n",
        "  print(f\"La suma de los números escogidos son: {suma}\")\n",
        "sumar(lasuma)"
      ],
      "metadata": {
        "id": "AZlhNh9jedx6"
      },
      "execution_count": null,
      "outputs": []
    },
    {
      "cell_type": "markdown",
      "source": [
        "#Ejercicio 4"
      ],
      "metadata": {
        "id": "leTurlmOga4_"
      }
    },
    {
      "cell_type": "code",
      "source": [
        "número1=int(input(\"Ingrese el primer número: \"))\n",
        "número2=int(input(\"Ingrese el primer número: \"))\n",
        "número3=int(input(\"Ingrese el primer número: \"))\n",
        "número4=int(input(\"Ingrese el primer número: \"))\n",
        "lasuma=[número1,número2,número3]\n",
        "def sumar(z):\n",
        "  suma=[número1 + número2 + número3 + número4]\n",
        "  print(f\"La suma de los números escogidos son: {suma}\")\n",
        "sumar(lasuma)"
      ],
      "metadata": {
        "id": "6JTG6hsGgc7f"
      },
      "execution_count": null,
      "outputs": []
    },
    {
      "cell_type": "markdown",
      "source": [
        "#Ejercicio 5"
      ],
      "metadata": {
        "id": "EYTSFX5wgnYe"
      }
    },
    {
      "cell_type": "code",
      "source": [
        "calcular=int(input(\"Ingrese la cantidad que desea calcular: \"))\n",
        "def lasuma(z):\n",
        "  LISTA=[]\n",
        "  suma=0\n",
        "  for i in range(0,z):\n",
        "    cantidad=int(input(\"Ingrese un número: \"))\n",
        "    LISTA.append(cantidad)\n",
        "    suma=suma+LISTA[i]\n",
        "    print(LISTA)\n",
        "  print(\"La suma dio como resultado\",suma)\n",
        "lasuma(calcular)\n",
        " "
      ],
      "metadata": {
        "id": "F7M7iU_FgpVW"
      },
      "execution_count": null,
      "outputs": []
    },
    {
      "cell_type": "markdown",
      "source": [
        "#Ejercicio 6"
      ],
      "metadata": {
        "id": "5QZeDs5RjjY0"
      }
    },
    {
      "cell_type": "code",
      "source": [
        "número1=int(input(\"Ingrese el primer número: \"))\n",
        "número2=int(input(\"Ingrese el primer número: \"))\n",
        "número3=int(input(\"Ingrese el primer número: \"))\n",
        "lamulti=[número1,número2,número3]\n",
        "def multis(z):\n",
        "  multi=[número1 * número2 * número3]\n",
        "  print(f\"La multiplicación de los números escogidos son: {multi}\")\n",
        "multis (lamulti)"
      ],
      "metadata": {
        "id": "Yi_O3TMLjlXc"
      },
      "execution_count": null,
      "outputs": []
    },
    {
      "cell_type": "markdown",
      "source": [
        "#Ejercicio 7"
      ],
      "metadata": {
        "id": "pCNloTA8kVEt"
      }
    },
    {
      "cell_type": "code",
      "source": [
        "número1=int(input(\"Ingrese el primer número: \"))\n",
        "número2=int(input(\"Ingrese el primer número: \"))\n",
        "número3=int(input(\"Ingrese el primer número: \"))\n",
        "número4=int(input(\"Ingrese el primer número: \"))\n",
        "lamulti=[número1,número2,número3]\n",
        "def multis(z):\n",
        "  multi=[número1 * número2 * número3 * número4]\n",
        "  print(f\"La multiplicación de los números escogidos son: {multi}\")\n",
        "multis (lamulti)"
      ],
      "metadata": {
        "id": "xP6kQJVikXIM"
      },
      "execution_count": null,
      "outputs": []
    },
    {
      "cell_type": "markdown",
      "source": [
        "#Ejercicio 8"
      ],
      "metadata": {
        "id": "fMkdIQSdpHVL"
      }
    },
    {
      "cell_type": "code",
      "source": [
        "calcular=int(input(\"Ingrese la cantidad que desea calcular: \"))\n",
        "def lamultipli(z):\n",
        "  LISTA=[]\n",
        "  multiplicación=1\n",
        "  for i in range(0,z):\n",
        "    cantidad=int(input(\"Ingrese un número: \"))\n",
        "    LISTA.append(cantidad)\n",
        "    multiplicación=multiplicación*LISTA[i]\n",
        "    print(LISTA)\n",
        "  print(\"La suma dio como resultado\",multiplicación)\n",
        "lamultipli(calcular)"
      ],
      "metadata": {
        "id": "dBwUmDirpJNC"
      },
      "execution_count": null,
      "outputs": []
    },
    {
      "cell_type": "markdown",
      "source": [
        "#Ejercicio 9"
      ],
      "metadata": {
        "id": "jxUYrzq8k9nI"
      }
    },
    {
      "cell_type": "code",
      "source": [
        "tufrase=str(input(\"Pon tu frase: \"))\n",
        "tufrase1=len(tufrase)\n",
        "tufrase2=tufrase[tufrase1::-1] \n",
        "print(f\"Tu frase es: {tufrase}\")\n",
        "print(f\"Tu frase al revés es: {tufrase2}\")\n",
        "\n"
      ],
      "metadata": {
        "id": "e3ueVr1IvaNs"
      },
      "execution_count": null,
      "outputs": []
    },
    {
      "cell_type": "markdown",
      "source": [
        "#Ejercicio 10"
      ],
      "metadata": {
        "id": "HvvcgGlIxGBK"
      }
    },
    {
      "cell_type": "code",
      "source": [
        "número=int(input(\"Ingrese un número\"))\n",
        "def factorial (z):\n",
        "  n=1\n",
        "  for i in range (0,número):\n",
        "    n=n*(i+1)\n",
        "  print(f\"El resultado del factorial de {número} es: {n}\")\n",
        "factorial(número)\n"
      ],
      "metadata": {
        "id": "T_SnSIXgxIH6"
      },
      "execution_count": null,
      "outputs": []
    }
  ]
}