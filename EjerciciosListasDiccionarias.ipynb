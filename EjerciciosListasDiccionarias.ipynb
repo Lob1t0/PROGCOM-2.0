{
  "nbformat": 4,
  "nbformat_minor": 0,
  "metadata": {
    "colab": {
      "provenance": []
    },
    "kernelspec": {
      "name": "python3",
      "display_name": "Python 3"
    },
    "language_info": {
      "name": "python"
    }
  },
  "cells": [
    {
      "cell_type": "markdown",
      "source": [
        "#Listas por compresion"
      ],
      "metadata": {
        "id": "viRJhqhsk4lA"
      }
    },
    {
      "cell_type": "code",
      "execution_count": 24,
      "metadata": {
        "id": "Jv6PZbftkrlm",
        "colab": {
          "base_uri": "https://localhost:8080/"
        },
        "outputId": "11f012b6-926e-4c3a-be72-d6dafd45feb5"
      },
      "outputs": [
        {
          "output_type": "stream",
          "name": "stdout",
          "text": [
            "Hasta que número quieres imprimir los pares e impares: 20\n",
            "[0, 2, 4, 6, 8, 10, 12, 14, 16, 18, 20]\n",
            "[1, 3, 5, 7, 9, 11, 13, 15, 17, 19]\n"
          ]
        }
      ],
      "source": [
        "n=int(input(\"Hasta que número quieres imprimir los pares e impares: \"))\n",
        "pares=[número for número in range(0,n+1) if número%2==0]\n",
        "print(pares)\n",
        "impares=[número for número in range(0,n+1) if número%2!=0]\n",
        "print(impares)"
      ]
    },
    {
      "cell_type": "code",
      "source": [
        "num=int(input(\"Hasta que número quieres imprimir los pares e impares: \"))\n",
        "def hola(n):\n",
        "  pares=[número for número in range(0,n+1) if número%2==0]\n",
        "  print(pares)\n",
        "  impares=[número for número in range(0,n+1) if número%2!=0]\n",
        "  print(impares)\n",
        "hola(num)"
      ],
      "metadata": {
        "id": "VtVJFoeWk0n4",
        "colab": {
          "base_uri": "https://localhost:8080/"
        },
        "outputId": "33d9e560-2390-4b6d-9871-07162cda1ef9"
      },
      "execution_count": 25,
      "outputs": [
        {
          "output_type": "stream",
          "name": "stdout",
          "text": [
            "Hasta que número quieres imprimir los pares e impares: 20\n",
            "[0, 2, 4, 6, 8, 10, 12, 14, 16, 18, 20]\n",
            "[1, 3, 5, 7, 9, 11, 13, 15, 17, 19]\n"
          ]
        }
      ]
    },
    {
      "cell_type": "code",
      "source": [
        "num=int(input(\"Hasta que número quieres imprimir los pares e impares: \"))\n",
        "mi_lista=[n for n in range(0,num+1)]\n",
        "impares=list(filter(lambda num:num%2==0,mi_lista))\n",
        "print(pares)\n",
        "pares=list(filter(lambda num:num%2!=0,mi_lista))\n",
        "print(impares)"
      ],
      "metadata": {
        "id": "hGt9BR2lk2rB",
        "colab": {
          "base_uri": "https://localhost:8080/"
        },
        "outputId": "363c90bb-a02a-4bb2-967c-dbdd05648959"
      },
      "execution_count": 26,
      "outputs": [
        {
          "output_type": "stream",
          "name": "stdout",
          "text": [
            "Hasta que número quieres imprimir los pares e impares: 20\n",
            "[0, 2, 4, 6, 8, 10, 12, 14, 16, 18, 20]\n",
            "[0, 2, 4, 6, 8, 10, 12, 14, 16, 18, 20]\n"
          ]
        }
      ]
    },
    {
      "cell_type": "code",
      "source": [
        "numbers=[1,2,3,4]\n",
        "results=[]\n",
        "for n in numbers:\n",
        "  results.append(n+1)\n",
        "results"
      ],
      "metadata": {
        "id": "hz5nRtbDnIgN",
        "colab": {
          "base_uri": "https://localhost:8080/"
        },
        "outputId": "320e56f4-2631-4575-d174-67bc9868d1f9"
      },
      "execution_count": 23,
      "outputs": [
        {
          "output_type": "execute_result",
          "data": {
            "text/plain": [
              "[2, 3, 4, 5]"
            ]
          },
          "metadata": {},
          "execution_count": 23
        }
      ]
    },
    {
      "cell_type": "code",
      "source": [
        "numbers=[1,2,3,4]\n",
        "results=[n+1 for n in numbers if n<5]\n",
        "results"
      ],
      "metadata": {
        "id": "P9RwK5jZnvNq",
        "colab": {
          "base_uri": "https://localhost:8080/"
        },
        "outputId": "d6aef0a6-07eb-4c00-fcba-0f1a2a545f70"
      },
      "execution_count": 22,
      "outputs": [
        {
          "output_type": "execute_result",
          "data": {
            "text/plain": [
              "[2, 3, 4, 5]"
            ]
          },
          "metadata": {},
          "execution_count": 22
        }
      ]
    },
    {
      "cell_type": "code",
      "source": [
        "results2=lambda numbers:results\n",
        "print(results2(numbers))"
      ],
      "metadata": {
        "id": "RqipPI3Wn6BQ",
        "colab": {
          "base_uri": "https://localhost:8080/"
        },
        "outputId": "58532af7-3a19-4de1-9ae7-9d3806eaf934"
      },
      "execution_count": 21,
      "outputs": [
        {
          "output_type": "stream",
          "name": "stdout",
          "text": [
            "[2, 3, 4, 5]\n"
          ]
        }
      ]
    },
    {
      "cell_type": "code",
      "source": [
        "def perfecto(número):\n",
        "  perf=0\n",
        "  for i in range(1,número):\n",
        "    if número%i==0:\n",
        "      perf+=i\n",
        "  if perf==número:\n",
        "    print(\"es número perfecto\")\n",
        "    return True\n",
        "  else:\n",
        "    print(\"no es número perfecto\")\n",
        "número=6\n",
        "perfecto(número)\n"
      ],
      "metadata": {
        "id": "lUn14XD-lnz9",
        "colab": {
          "base_uri": "https://localhost:8080/"
        },
        "outputId": "a0737b74-455e-4d67-f2d0-6388c8d84397"
      },
      "execution_count": 17,
      "outputs": [
        {
          "output_type": "stream",
          "name": "stdout",
          "text": [
            "es número perfecto\n"
          ]
        },
        {
          "output_type": "execute_result",
          "data": {
            "text/plain": [
              "True"
            ]
          },
          "metadata": {},
          "execution_count": 17
        }
      ]
    },
    {
      "cell_type": "code",
      "source": [
        "def números():\n",
        "  a=int(input(\"Ingresa un número: \"))\n",
        "  b=int(input(\"Ingresa un número: \"))\n",
        "  c=int(input(\"Ingresa un número: \"))\n",
        "  d=int(input(\"Ingresa un número: \"))\n",
        "  perfect=[a,b,c,d]\n",
        "\n",
        "  perfect1=[elemento for elemento in perfect if perfecto(elemento)==True]\n",
        "números()"
      ],
      "metadata": {
        "colab": {
          "base_uri": "https://localhost:8080/"
        },
        "id": "tSHJuMf6oX7W",
        "outputId": "89dfb0c8-a3bc-4afd-d863-ffcb68bc1055"
      },
      "execution_count": 19,
      "outputs": [
        {
          "output_type": "stream",
          "name": "stdout",
          "text": [
            "Ingresa un número: 1\n",
            "Ingresa un número: 2\n",
            "Ingresa un número: 3\n",
            "Ingresa un número: 6\n",
            "no es número perfecto\n",
            "no es número perfecto\n",
            "no es número perfecto\n",
            "es número perfecto\n"
          ]
        }
      ]
    },
    {
      "cell_type": "code",
      "source": [
        "lista=[2,3,6,4]\n",
        "perfect2=list(map(lambda elemento:perfecto(elemento)==True,lista))\n",
        "perfect2"
      ],
      "metadata": {
        "colab": {
          "base_uri": "https://localhost:8080/"
        },
        "id": "F7LC7PbPqWcB",
        "outputId": "7c1e7824-3400-4fca-c660-00871adee289"
      },
      "execution_count": 20,
      "outputs": [
        {
          "output_type": "stream",
          "name": "stdout",
          "text": [
            "no es número perfecto\n",
            "no es número perfecto\n",
            "es número perfecto\n",
            "no es número perfecto\n"
          ]
        },
        {
          "output_type": "execute_result",
          "data": {
            "text/plain": [
              "[False, False, True, False]"
            ]
          },
          "metadata": {},
          "execution_count": 20
        }
      ]
    }
  ]
}