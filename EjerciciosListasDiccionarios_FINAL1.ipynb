{
  "nbformat": 4,
  "nbformat_minor": 0,
  "metadata": {
    "colab": {
      "provenance": []
    },
    "kernelspec": {
      "name": "python3",
      "display_name": "Python 3"
    },
    "language_info": {
      "name": "python"
    }
  },
  "cells": [
    {
      "cell_type": "markdown",
      "source": [
        "#Listas por compresion"
      ],
      "metadata": {
        "id": "viRJhqhsk4lA"
      }
    },
    {
      "cell_type": "code",
      "execution_count": null,
      "metadata": {
        "id": "Jv6PZbftkrlm",
        "colab": {
          "base_uri": "https://localhost:8080/"
        },
        "outputId": "11f012b6-926e-4c3a-be72-d6dafd45feb5"
      },
      "outputs": [
        {
          "output_type": "stream",
          "name": "stdout",
          "text": [
            "Hasta que número quieres imprimir los pares e impares: 20\n",
            "[0, 2, 4, 6, 8, 10, 12, 14, 16, 18, 20]\n",
            "[1, 3, 5, 7, 9, 11, 13, 15, 17, 19]\n"
          ]
        }
      ],
      "source": [
        "n=int(input(\"Hasta que número quieres imprimir los pares e impares: \"))\n",
        "pares=[número for número in range(0,n+1) if número%2==0]\n",
        "print(pares)\n",
        "impares=[número for número in range(0,n+1) if número%2!=0]\n",
        "print(impares)"
      ]
    },
    {
      "cell_type": "code",
      "source": [
        "num=int(input(\"Hasta que número quieres imprimir los pares e impares: \"))\n",
        "def hola(n):\n",
        "  pares=[número for número in range(0,n+1) if número%2==0]\n",
        "  print(pares)\n",
        "  impares=[número for número in range(0,n+1) if número%2!=0]\n",
        "  print(impares)\n",
        "hola(num)"
      ],
      "metadata": {
        "id": "VtVJFoeWk0n4",
        "colab": {
          "base_uri": "https://localhost:8080/"
        },
        "outputId": "33d9e560-2390-4b6d-9871-07162cda1ef9"
      },
      "execution_count": null,
      "outputs": [
        {
          "output_type": "stream",
          "name": "stdout",
          "text": [
            "Hasta que número quieres imprimir los pares e impares: 20\n",
            "[0, 2, 4, 6, 8, 10, 12, 14, 16, 18, 20]\n",
            "[1, 3, 5, 7, 9, 11, 13, 15, 17, 19]\n"
          ]
        }
      ]
    },
    {
      "cell_type": "code",
      "source": [
        "num=int(input(\"Hasta que número quieres imprimir los pares e impares: \"))\n",
        "mi_lista=[n for n in range(0,num+1)]\n",
        "impares=list(filter(lambda num:num%2==0,mi_lista))\n",
        "print(pares)\n",
        "pares=list(filter(lambda num:num%2!=0,mi_lista))\n",
        "print(impares)"
      ],
      "metadata": {
        "id": "hGt9BR2lk2rB",
        "colab": {
          "base_uri": "https://localhost:8080/"
        },
        "outputId": "363c90bb-a02a-4bb2-967c-dbdd05648959"
      },
      "execution_count": null,
      "outputs": [
        {
          "output_type": "stream",
          "name": "stdout",
          "text": [
            "Hasta que número quieres imprimir los pares e impares: 20\n",
            "[0, 2, 4, 6, 8, 10, 12, 14, 16, 18, 20]\n",
            "[0, 2, 4, 6, 8, 10, 12, 14, 16, 18, 20]\n"
          ]
        }
      ]
    },
    {
      "cell_type": "code",
      "source": [
        "numbers=[1,2,3,4]\n",
        "results=[]\n",
        "for n in numbers:\n",
        "  results.append(n+1)\n",
        "results"
      ],
      "metadata": {
        "id": "hz5nRtbDnIgN",
        "colab": {
          "base_uri": "https://localhost:8080/"
        },
        "outputId": "320e56f4-2631-4575-d174-67bc9868d1f9"
      },
      "execution_count": null,
      "outputs": [
        {
          "output_type": "execute_result",
          "data": {
            "text/plain": [
              "[2, 3, 4, 5]"
            ]
          },
          "metadata": {},
          "execution_count": 23
        }
      ]
    },
    {
      "cell_type": "code",
      "source": [
        "numbers=[1,2,3,4]\n",
        "results=[n+1 for n in numbers if n<5]\n",
        "results"
      ],
      "metadata": {
        "id": "P9RwK5jZnvNq",
        "colab": {
          "base_uri": "https://localhost:8080/"
        },
        "outputId": "d6aef0a6-07eb-4c00-fcba-0f1a2a545f70"
      },
      "execution_count": null,
      "outputs": [
        {
          "output_type": "execute_result",
          "data": {
            "text/plain": [
              "[2, 3, 4, 5]"
            ]
          },
          "metadata": {},
          "execution_count": 22
        }
      ]
    },
    {
      "cell_type": "code",
      "source": [
        "results2=lambda numbers:results\n",
        "print(results2(numbers))"
      ],
      "metadata": {
        "id": "RqipPI3Wn6BQ",
        "colab": {
          "base_uri": "https://localhost:8080/"
        },
        "outputId": "58532af7-3a19-4de1-9ae7-9d3806eaf934"
      },
      "execution_count": null,
      "outputs": [
        {
          "output_type": "stream",
          "name": "stdout",
          "text": [
            "[2, 3, 4, 5]\n"
          ]
        }
      ]
    },
    {
      "cell_type": "code",
      "source": [
        "def perfecto(número):\n",
        "  perf=0\n",
        "  for i in range(1,número):\n",
        "    if número%i==0:\n",
        "      perf+=i\n",
        "  if perf==número:\n",
        "    print(\"es número perfecto\")\n",
        "    return True\n",
        "  else:\n",
        "    print(\"no es número perfecto\")\n",
        "número=6\n",
        "perfecto(número)\n"
      ],
      "metadata": {
        "id": "lUn14XD-lnz9",
        "colab": {
          "base_uri": "https://localhost:8080/"
        },
        "outputId": "a0737b74-455e-4d67-f2d0-6388c8d84397"
      },
      "execution_count": null,
      "outputs": [
        {
          "output_type": "stream",
          "name": "stdout",
          "text": [
            "es número perfecto\n"
          ]
        },
        {
          "output_type": "execute_result",
          "data": {
            "text/plain": [
              "True"
            ]
          },
          "metadata": {},
          "execution_count": 17
        }
      ]
    },
    {
      "cell_type": "code",
      "source": [
        "def números():\n",
        "  a=int(input(\"Ingresa un número: \"))\n",
        "  b=int(input(\"Ingresa un número: \"))\n",
        "  c=int(input(\"Ingresa un número: \"))\n",
        "  d=int(input(\"Ingresa un número: \"))\n",
        "  perfect=[a,b,c,d]\n",
        "\n",
        "  perfect1=[elemento for elemento in perfect if perfecto(elemento)==True]\n",
        "números()"
      ],
      "metadata": {
        "colab": {
          "base_uri": "https://localhost:8080/"
        },
        "id": "tSHJuMf6oX7W",
        "outputId": "89dfb0c8-a3bc-4afd-d863-ffcb68bc1055"
      },
      "execution_count": null,
      "outputs": [
        {
          "output_type": "stream",
          "name": "stdout",
          "text": [
            "Ingresa un número: 1\n",
            "Ingresa un número: 2\n",
            "Ingresa un número: 3\n",
            "Ingresa un número: 6\n",
            "no es número perfecto\n",
            "no es número perfecto\n",
            "no es número perfecto\n",
            "es número perfecto\n"
          ]
        }
      ]
    },
    {
      "cell_type": "code",
      "source": [
        "lista=[2,3,6,4]\n",
        "perfect2=list(map(lambda elemento:perfecto(elemento)==True,lista))\n",
        "perfect2"
      ],
      "metadata": {
        "colab": {
          "base_uri": "https://localhost:8080/"
        },
        "id": "F7LC7PbPqWcB",
        "outputId": "7c1e7824-3400-4fca-c660-00871adee289"
      },
      "execution_count": null,
      "outputs": [
        {
          "output_type": "stream",
          "name": "stdout",
          "text": [
            "no es número perfecto\n",
            "no es número perfecto\n",
            "es número perfecto\n",
            "no es número perfecto\n"
          ]
        },
        {
          "output_type": "execute_result",
          "data": {
            "text/plain": [
              "[False, False, True, False]"
            ]
          },
          "metadata": {},
          "execution_count": 20
        }
      ]
    },
    {
      "cell_type": "code",
      "source": [
        "import random\n",
        "número1=[random.randint(0,2000) for x in range(100)]\n",
        "número2=[random.randint(0,2000) for x in range(100)]\n",
        "comun=[]\n",
        "for a in número1:\n",
        "  for b in número2:\n",
        "    if a==b:\n",
        "      comun.append(a)\n",
        "print(comun)"
      ],
      "metadata": {
        "colab": {
          "base_uri": "https://localhost:8080/"
        },
        "id": "TFm-DLewolHu",
        "outputId": "8b4b1a2b-6ff2-4370-f09d-529e36a9cce0"
      },
      "execution_count": null,
      "outputs": [
        {
          "output_type": "stream",
          "name": "stdout",
          "text": [
            "[1148, 1176, 727]\n"
          ]
        }
      ]
    },
    {
      "cell_type": "code",
      "source": [
        "import random\n",
        "número1=[random.randint(0,2000) for x in range(100)]\n",
        "número2=[random.randint(0,2000) for x in range(100)]\n",
        "comun=[x for x in número1 for y in número2 if x==y]\n",
        "print(comun)"
      ],
      "metadata": {
        "colab": {
          "base_uri": "https://localhost:8080/"
        },
        "id": "jsNF0WSZppgR",
        "outputId": "4bb551d8-9ec3-4b04-eebc-37f07091b4ed"
      },
      "execution_count": null,
      "outputs": [
        {
          "output_type": "stream",
          "name": "stdout",
          "text": [
            "[348, 1522, 1611, 1086, 432]\n"
          ]
        }
      ]
    },
    {
      "cell_type": "code",
      "source": [
        "import random\n",
        "número1=[random.randint(0,2000) for x in range(100)]\n",
        "número2=[random.randint(0,2000) for x in range(100)]\n",
        "comun=[]\n",
        "comun=list(filter(lambda num:num in número1,número2))\n",
        "print(comun)"
      ],
      "metadata": {
        "colab": {
          "base_uri": "https://localhost:8080/"
        },
        "id": "t9kbPMsfqE4u",
        "outputId": "6fbe06f9-9219-4cbe-d798-79b3639f35a2"
      },
      "execution_count": null,
      "outputs": [
        {
          "output_type": "stream",
          "name": "stdout",
          "text": [
            "[302, 1288, 673]\n"
          ]
        }
      ]
    },
    {
      "cell_type": "code",
      "source": [
        "def square1(num):\n",
        "  return num**2\n",
        "print(square1(5))"
      ],
      "metadata": {
        "colab": {
          "base_uri": "https://localhost:8080/"
        },
        "id": "63QIIPXCrrQC",
        "outputId": "b2406083-d9c6-4381-8b91-da44fc81f846"
      },
      "execution_count": null,
      "outputs": [
        {
          "output_type": "stream",
          "name": "stdout",
          "text": [
            "25\n"
          ]
        }
      ]
    },
    {
      "cell_type": "code",
      "source": [
        "L=[1,2,3,4]\n",
        "L2=[n**2 for n in L]\n",
        "print(L2)"
      ],
      "metadata": {
        "colab": {
          "base_uri": "https://localhost:8080/"
        },
        "id": "QnGbnVK0rQ7E",
        "outputId": "746f5c1d-490c-45ba-81fe-57cf8a6d3c56"
      },
      "execution_count": null,
      "outputs": [
        {
          "output_type": "stream",
          "name": "stdout",
          "text": [
            "[1, 4, 9, 16]\n"
          ]
        }
      ]
    },
    {
      "cell_type": "code",
      "source": [
        "lambda_func=lambda x:x**2\n",
        "lambda_func(3)"
      ],
      "metadata": {
        "colab": {
          "base_uri": "https://localhost:8080/"
        },
        "id": "EQB3zbTwrzwh",
        "outputId": "e09b351e-4386-4a4d-ce2e-c7020ca43005"
      },
      "execution_count": null,
      "outputs": [
        {
          "output_type": "execute_result",
          "data": {
            "text/plain": [
              "9"
            ]
          },
          "metadata": {},
          "execution_count": 27
        }
      ]
    },
    {
      "cell_type": "code",
      "source": [
        "nom1=['Samuelle','Angie','Valentina','Alejandro','Jonsito']\n",
        "nom2=['Samuelle','Andrea','Samdra','Anderson','Jonsito']\n",
        "def common(nom1,nom2):\n",
        "  return nom1,nom2\n",
        "nom1,nom2"
      ],
      "metadata": {
        "colab": {
          "base_uri": "https://localhost:8080/"
        },
        "id": "ipZPAUEYtzBO",
        "outputId": "5c0db646-877f-4ad5-b7c9-c862c161c874"
      },
      "execution_count": null,
      "outputs": [
        {
          "output_type": "execute_result",
          "data": {
            "text/plain": [
              "(['Samuelle', 'Angie', 'Valentina', 'Alejandro', 'Jonsito'],\n",
              " ['Samuelle', 'Andrea', 'Samdra', 'Anderson', 'Jonsito'])"
            ]
          },
          "metadata": {},
          "execution_count": 18
        }
      ]
    },
    {
      "cell_type": "code",
      "source": [
        "nom1=['Samuelle','Angie','Valentina','Alejandro','Jonsito']\n",
        "nom2=['Samuelle','Andrea','Samdra','Anderson','Jonsito']\n",
        "common={a for a in nom1 for b in nom2 if a==b}\n",
        "common"
      ],
      "metadata": {
        "colab": {
          "base_uri": "https://localhost:8080/"
        },
        "id": "ebRoWJalubkO",
        "outputId": "900dd208-cfac-43ed-f27b-ce73509c9ad2"
      },
      "execution_count": null,
      "outputs": [
        {
          "output_type": "execute_result",
          "data": {
            "text/plain": [
              "{'Jonsito', 'Samuelle'}"
            ]
          },
          "metadata": {},
          "execution_count": 19
        }
      ]
    },
    {
      "cell_type": "code",
      "source": [
        "nom1=['Samuelle','Angie','Valentina','Alejandro','Jonsito']\n",
        "nom2=['Samuelle','Andrea','Samdra','Anderson','Jonsito']\n",
        "common1=lambda nom1,nom2:common\n",
        "print(common1(nom1,nom2))"
      ],
      "metadata": {
        "colab": {
          "base_uri": "https://localhost:8080/"
        },
        "id": "AdgcLpBluurN",
        "outputId": "8e1ba230-9209-436f-a6dc-c48084027298"
      },
      "execution_count": null,
      "outputs": [
        {
          "output_type": "stream",
          "name": "stdout",
          "text": [
            "{'Samuelle', 'Jonsito'}\n"
          ]
        }
      ]
    },
    {
      "cell_type": "code",
      "source": [
        "def listaIMC(usuarios):\n",
        "  sis=[]\n",
        "  imc=[]\n",
        "  b=0\n",
        "  a2=0\n",
        "  for n in range(usuarios):\n",
        "    w=input(\"¿Cuál es tu nombre?\")\n",
        "    b=int(input(\"Ingresa el peso: \"))\n",
        "    a2=int(input(\"Ingresa la altura: \"))\n",
        "    sis.append((w,b/a2**2))\n",
        "    imc.append(b/a2**2)\n",
        "  return sis,imc\n",
        "user=int(input(\"¿Cuántos usuarios hay?: \"))\n",
        "sis,imc=listaIMC(user)\n",
        "imc"
      ],
      "metadata": {
        "colab": {
          "base_uri": "https://localhost:8080/"
        },
        "id": "M-7wa3wDwLsc",
        "outputId": "57b81206-fb77-492d-e96e-d34395308842"
      },
      "execution_count": null,
      "outputs": [
        {
          "name": "stdout",
          "output_type": "stream",
          "text": [
            "¿Cuántos usuarios hay?: 1\n",
            "¿Cuál es tu nombre?Jesus\n",
            "Ingresa el peso: 54\n",
            "Ingresa la altura: 170\n"
          ]
        },
        {
          "output_type": "execute_result",
          "data": {
            "text/plain": [
              "[0.0018685121107266437]"
            ]
          },
          "metadata": {},
          "execution_count": 25
        }
      ]
    },
    {
      "cell_type": "code",
      "source": [
        "sis=listaIMC(user)\n",
        "sis2=[n for n in imc if n>=18.5]\n",
        "print(sis2)"
      ],
      "metadata": {
        "colab": {
          "base_uri": "https://localhost:8080/"
        },
        "id": "3oA6ZkzFySYD",
        "outputId": "b5460d1c-81fa-4062-ed7d-f0d9b9ed07bf"
      },
      "execution_count": null,
      "outputs": [
        {
          "output_type": "stream",
          "name": "stdout",
          "text": [
            "¿Cuál es tu nombre?Jesus\n",
            "Ingresa el peso: 54\n",
            "Ingresa la altura: 170\n",
            "[]\n"
          ]
        }
      ]
    },
    {
      "cell_type": "code",
      "source": [
        "sis"
      ],
      "metadata": {
        "colab": {
          "base_uri": "https://localhost:8080/"
        },
        "id": "JYvmg_tNzN5L",
        "outputId": "c46ea237-d5b2-4045-fa73-e0e8827b0b42"
      },
      "execution_count": null,
      "outputs": [
        {
          "output_type": "execute_result",
          "data": {
            "text/plain": [
              "([('Jesus', 0.0018685121107266437)], [0.0018685121107266437])"
            ]
          },
          "metadata": {},
          "execution_count": 28
        }
      ]
    },
    {
      "cell_type": "code",
      "source": [
        "sis3=list(map(lambda x:\"peso insuficiente\" if x<18.5 else \"peso normal\" if (x>=18.5 and x<24.9) else \"sobrepeso\" if (x>=24.9 and x<30) else \"obesidad\",imc))\n",
        "sis3"
      ],
      "metadata": {
        "colab": {
          "base_uri": "https://localhost:8080/"
        },
        "id": "bSCEDHytzQXD",
        "outputId": "59263f11-50e1-4b45-bd90-a2713468ccfb"
      },
      "execution_count": null,
      "outputs": [
        {
          "output_type": "execute_result",
          "data": {
            "text/plain": [
              "['peso insuficiente']"
            ]
          },
          "metadata": {},
          "execution_count": 29
        }
      ]
    },
    {
      "cell_type": "code",
      "source": [
        "print(\"Ingresa su código: \")\n",
        "caracter=input()\n",
        "if len(caracter)==8:\n",
        "  if caracter[0]=='U':\n",
        "    print(\"Eres estudiante de la Unab\")\n",
        "  elif(caracter.startswith(\"a000\")):\n",
        "    print(\"Eres estudiante de los Andes\")\n",
        "  else:\n",
        "    if(int(caracter)>=1950):\n",
        "      print(\"Eres estudiante de la UIS\")\n",
        "else:\n",
        "  print(\"No corresponde a ninguna universidad, revisa tu código\")"
      ],
      "metadata": {
        "id": "rmtgAs0jz41j",
        "colab": {
          "base_uri": "https://localhost:8080/"
        },
        "outputId": "818e08d4-b8dc-4339-8dc3-d31d60aed67b"
      },
      "execution_count": 6,
      "outputs": [
        {
          "output_type": "stream",
          "name": "stdout",
          "text": [
            "Ingresa su código: \n",
            "U0015741\n",
            "Eres estudiante de la Unab\n"
          ]
        }
      ]
    },
    {
      "cell_type": "code",
      "source": [
        "universidades=[\"unab\",\"uis\",\"andes\"]\n",
        "codigo=[\"U0015741\",\"198076\",\"a0005437\"]\n",
        "u=[cod for cod in codigo if (cod[0]=='U' and len(cod)==8)]\n",
        "print(u)"
      ],
      "metadata": {
        "colab": {
          "base_uri": "https://localhost:8080/"
        },
        "id": "DSWIUC26HzJM",
        "outputId": "331048e9-ef83-4168-ab33-cc602bfbe768"
      },
      "execution_count": 7,
      "outputs": [
        {
          "output_type": "stream",
          "name": "stdout",
          "text": [
            "['U0015741']\n"
          ]
        }
      ]
    },
    {
      "cell_type": "code",
      "source": [
        "y=list(map(lambda x:\"unab\" if (x[0]=='U' or x[0]=='u') else None,codigo))\n",
        "print(y)"
      ],
      "metadata": {
        "colab": {
          "base_uri": "https://localhost:8080/"
        },
        "id": "Fvh5SogRJlSF",
        "outputId": "a9281348-fc8f-4ffd-9dc7-6b8825e0aeaa"
      },
      "execution_count": 8,
      "outputs": [
        {
          "output_type": "stream",
          "name": "stdout",
          "text": [
            "['unab', None, None]\n"
          ]
        }
      ]
    },
    {
      "cell_type": "code",
      "source": [
        "def funcion(lista, numDigitos, universidad,clasCodigo):\n",
        "  clasi=[a for a in lista if a.startswith(clasCodigo) and len(a)==numDigitos]\n",
        "  print(f'Hay {len(clasi)} estudiante(s) de {universidad} y sus codigo(s) son {clasi}')\n",
        "\n",
        "lista=[]\n",
        "x=0\n",
        "while x==0:\n",
        "  entrada=input(\"Ingresa un codigo: \")\n",
        "  lista.append(entrada)\n",
        "  a=int(input(\"¿Deseas ingresar otro? Ingresa 0 si lo deseas,sino ingresa 1: \"))\n",
        "  if (a==1):\n",
        "    x=x+1\n",
        "\n",
        "funcion(lista,9,'la Unab','U00')\n",
        "funcion(lista,9,'los Andes','A000')"
      ],
      "metadata": {
        "colab": {
          "base_uri": "https://localhost:8080/"
        },
        "id": "Z_BwYeOyMk6A",
        "outputId": "0d32e9bc-6201-455f-94b8-7026ae38ef7c"
      },
      "execution_count": 11,
      "outputs": [
        {
          "output_type": "stream",
          "name": "stdout",
          "text": [
            "Ingresa un codigo: U00157412\n",
            "¿Deseas ingresar otro? Ingresa 0 si lo deseas,sino ingresa 1: 1\n",
            "Hay 1 estudiante(s) de la Unab y sus codigo(s) son ['U00157412']\n",
            "Hay 0 estudiante(s) de los Andes y sus codigo(s) son []\n"
          ]
        }
      ]
    },
    {
      "cell_type": "code",
      "source": [
        "lista=[]\n",
        "x=0\n",
        "while x==0:\n",
        "  entrada=input(\"Ingresa un codigo: \")\n",
        "  lista.append(entrada)\n",
        "  a=int(input(\"¿Deseas ingresar otro? Ingresa 0 si lo deseas,sino ingresa 1: \"))\n",
        "  if (a==1):\n",
        "    x=x+1\n",
        "\n",
        "clasificacion=[a for a in lista if a.startswith(\"U00\") and len(a)==9]\n",
        "print(f'Hay {len(clasificacion)} estudiante(s) de la Unab y sus codigo(s) son {clasificacion}')\n",
        "clasificacion=[a for a in lista if a.startswith(\"A000\") and len(a)==9]\n",
        "print(f'Hay {len(clasificacion)} estudiante(s) de los Andes y sus codigo(s) son {clasificacion}')"
      ],
      "metadata": {
        "colab": {
          "base_uri": "https://localhost:8080/"
        },
        "id": "6Im3_jGBK3iW",
        "outputId": "94564fc0-58f0-47d9-d738-5a4c8636d34d"
      },
      "execution_count": 10,
      "outputs": [
        {
          "output_type": "stream",
          "name": "stdout",
          "text": [
            "Ingresa un codigo: U00157412\n",
            "¿Deseas ingresar otro? Ingresa 0 si lo deseas,sino ingresa 1: 1\n",
            "Hay 1 estudiante(s) de la Unab y sus codigo(s) son ['U00157412']\n",
            "Hay 0 estudiante(s) de los Andes y sus codigo(s) son []\n"
          ]
        }
      ]
    },
    {
      "cell_type": "code",
      "source": [
        "lista=[]\n",
        "x=0\n",
        "while x==0:\n",
        "  entrada=input(\"Ingresa un codigo: \")\n",
        "  lista.append(entrada)\n",
        "  a=int(input(\"¿Deseas ingresar otro? Ingresa 0 si lo deseas,sino ingresa 1: \"))\n",
        "  if (a==1):\n",
        "    x=x+1\n",
        "lista1=[\"U0015741\",\"198076\",\"a0005437\"]\n",
        "clasif=list(map(lambda a:\"UNAB\" if a.startswith(\"U00\") or a.startswith(\"u00\") else 'Los Andes' if a.startswith(\"A000\") or a.startswith(\"A000\") else None, lista))\n",
        "clasif"
      ],
      "metadata": {
        "colab": {
          "base_uri": "https://localhost:8080/"
        },
        "id": "XsNOr9yEMb4W",
        "outputId": "9f882a6e-b31c-46fc-d1a6-7d394c391a37"
      },
      "execution_count": 12,
      "outputs": [
        {
          "name": "stdout",
          "output_type": "stream",
          "text": [
            "Ingresa un codigo: U00157412\n",
            "¿Deseas ingresar otro? Ingresa 0 si lo deseas,sino ingresa 1: 1\n"
          ]
        },
        {
          "output_type": "execute_result",
          "data": {
            "text/plain": [
              "['UNAB']"
            ]
          },
          "metadata": {},
          "execution_count": 12
        }
      ]
    },
    {
      "cell_type": "code",
      "source": [
        "num=[1,2,3,4,5,6,7,8,9,10]\n",
        "exp=int(input(\"Escribe un exponente: \"))\n",
        "x=len(num)\n",
        "for n in range(1,(x)):\n",
        "  num[n]=num[n]**exp\n",
        "print(num)\n",
        "def imprimir(num):\n",
        "  s=1\n",
        "  for i in num:\n",
        "    print(f\"\\nEl resultado del elemento {s} de la lista es {i}\")\n",
        "    s+=1\n",
        "imprimir(num)"
      ],
      "metadata": {
        "colab": {
          "base_uri": "https://localhost:8080/"
        },
        "id": "jv3t6zwgOugu",
        "outputId": "93d65d59-7eb5-4374-d491-6603e97170af"
      },
      "execution_count": 13,
      "outputs": [
        {
          "output_type": "stream",
          "name": "stdout",
          "text": [
            "Escribe un exponente: 5\n",
            "[1, 32, 243, 1024, 3125, 7776, 16807, 32768, 59049, 100000]\n",
            "\n",
            "El resultado del elemento 1 de la lista es 1\n",
            "\n",
            "El resultado del elemento 2 de la lista es 32\n",
            "\n",
            "El resultado del elemento 3 de la lista es 243\n",
            "\n",
            "El resultado del elemento 4 de la lista es 1024\n",
            "\n",
            "El resultado del elemento 5 de la lista es 3125\n",
            "\n",
            "El resultado del elemento 6 de la lista es 7776\n",
            "\n",
            "El resultado del elemento 7 de la lista es 16807\n",
            "\n",
            "El resultado del elemento 8 de la lista es 32768\n",
            "\n",
            "El resultado del elemento 9 de la lista es 59049\n",
            "\n",
            "El resultado del elemento 10 de la lista es 100000\n"
          ]
        }
      ]
    },
    {
      "cell_type": "code",
      "source": [
        "num=[1,2,3,4,5,6,7,8,9,10]\n",
        "exp=int(input(\"Escribe un exponente: \"))\n",
        "números=[n**exp for n in num]\n",
        "números\n",
        "imprimir(números)"
      ],
      "metadata": {
        "colab": {
          "base_uri": "https://localhost:8080/"
        },
        "id": "N5UqYldrPzmO",
        "outputId": "441a29ac-5e75-448d-fdc7-25bc70598f25"
      },
      "execution_count": 14,
      "outputs": [
        {
          "output_type": "stream",
          "name": "stdout",
          "text": [
            "Escribe un exponente: 5\n",
            "\n",
            "El resultado del elemento 1 de la lista es 1\n",
            "\n",
            "El resultado del elemento 2 de la lista es 32\n",
            "\n",
            "El resultado del elemento 3 de la lista es 243\n",
            "\n",
            "El resultado del elemento 4 de la lista es 1024\n",
            "\n",
            "El resultado del elemento 5 de la lista es 3125\n",
            "\n",
            "El resultado del elemento 6 de la lista es 7776\n",
            "\n",
            "El resultado del elemento 7 de la lista es 16807\n",
            "\n",
            "El resultado del elemento 8 de la lista es 32768\n",
            "\n",
            "El resultado del elemento 9 de la lista es 59049\n",
            "\n",
            "El resultado del elemento 10 de la lista es 100000\n"
          ]
        }
      ]
    },
    {
      "cell_type": "code",
      "source": [
        "num=list(range(1,11))\n",
        "exp=int(input(\"Escribe un exponente: \"))\n",
        "números=lambda num,exp:(n**exp for n in num)\n",
        "número1=números(num,exp)\n",
        "imprimir(list(número1))"
      ],
      "metadata": {
        "colab": {
          "base_uri": "https://localhost:8080/"
        },
        "id": "Vu9EosntQFaw",
        "outputId": "36d11066-279a-41f5-ecaf-c6fea315d696"
      },
      "execution_count": 16,
      "outputs": [
        {
          "output_type": "stream",
          "name": "stdout",
          "text": [
            "Escribe un exponente: 5\n",
            "\n",
            "El resultado del elemento 1 de la lista es 1\n",
            "\n",
            "El resultado del elemento 2 de la lista es 32\n",
            "\n",
            "El resultado del elemento 3 de la lista es 243\n",
            "\n",
            "El resultado del elemento 4 de la lista es 1024\n",
            "\n",
            "El resultado del elemento 5 de la lista es 3125\n",
            "\n",
            "El resultado del elemento 6 de la lista es 7776\n",
            "\n",
            "El resultado del elemento 7 de la lista es 16807\n",
            "\n",
            "El resultado del elemento 8 de la lista es 32768\n",
            "\n",
            "El resultado del elemento 9 de la lista es 59049\n",
            "\n",
            "El resultado del elemento 10 de la lista es 100000\n"
          ]
        }
      ]
    }
  ]
}