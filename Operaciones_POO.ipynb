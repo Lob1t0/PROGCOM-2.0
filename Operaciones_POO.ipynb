{
  "nbformat": 4,
  "nbformat_minor": 0,
  "metadata": {
    "colab": {
      "provenance": [],
      "collapsed_sections": []
    },
    "kernelspec": {
      "name": "python3",
      "display_name": "Python 3"
    },
    "language_info": {
      "name": "python"
    }
  },
  "cells": [
    {
      "cell_type": "code",
      "source": [
        "class Suma:\n",
        "  num1=5\n",
        "  num2=2\n",
        "\n",
        "  def __init__(self,num1=5,num2=2) -> None:\n",
        "    self.num1=num1\n",
        "    self.num2=num2\n",
        "\n",
        "  def imprimir(self):\n",
        "    print(self.num1,\"+\",self.num2)\n",
        "    print(self.num1+self.num2)\n",
        "  \n",
        "a=Suma(5,2)\n",
        "a.imprimir()\n"
      ],
      "metadata": {
        "id": "HsZYKiXp_CKF",
        "colab": {
          "base_uri": "https://localhost:8080/"
        },
        "outputId": "43a0e5ee-1e9f-4a14-fcf2-46bcdce81363"
      },
      "execution_count": null,
      "outputs": [
        {
          "output_type": "stream",
          "name": "stdout",
          "text": [
            "5 + 2\n",
            "7\n"
          ]
        }
      ]
    },
    {
      "cell_type": "code",
      "source": [
        "class Resta:\n",
        "  num1=5\n",
        "  num2=2\n",
        "\n",
        "  def __init__(self,num1=5,num2=2) -> None:\n",
        "    self.num1=num1\n",
        "    self.num2=num2\n",
        "\n",
        "  def imprimir(self):\n",
        "    print(self.num1,\"-\",self.num2)\n",
        "    print(self.num1-self.num2)\n",
        "  \n",
        "a=Resta(5,2)\n",
        "a.imprimir()\n"
      ],
      "metadata": {
        "colab": {
          "base_uri": "https://localhost:8080/"
        },
        "id": "Xsbizn2TEFHi",
        "outputId": "1c9cb7e8-a1a0-4e69-f117-b12c20231b6f"
      },
      "execution_count": 2,
      "outputs": [
        {
          "output_type": "stream",
          "name": "stdout",
          "text": [
            "5 - 2\n",
            "3\n"
          ]
        }
      ]
    },
    {
      "cell_type": "code",
      "source": [
        "class Multiplicación:\n",
        "  num1=5\n",
        "  num2=2\n",
        "\n",
        "  def __init__(self,num1=5,num2=2) -> None:\n",
        "    self.num1=num1\n",
        "    self.num2=num2\n",
        "\n",
        "  def imprimir(self):\n",
        "    print(self.num1,\"*\",self.num2)\n",
        "    print(self.num1*self.num2)\n",
        "  \n",
        "a=Multiplicación(5,2)\n",
        "a.imprimir()"
      ],
      "metadata": {
        "colab": {
          "base_uri": "https://localhost:8080/"
        },
        "id": "f3H8Jzn_EUsp",
        "outputId": "184bbefe-9d40-4d9a-aeac-2e80b0a916a7"
      },
      "execution_count": null,
      "outputs": [
        {
          "output_type": "stream",
          "name": "stdout",
          "text": [
            "5 * 2\n",
            "10\n"
          ]
        }
      ]
    },
    {
      "cell_type": "code",
      "source": [
        "class División:\n",
        "  num1=5\n",
        "  num2=2\n",
        "\n",
        "  def __init__(self,num1=5,num2=2) -> None:\n",
        "    self.num1=num1\n",
        "    self.num2=num2\n",
        "\n",
        "  def imprimir(self):\n",
        "    print(self.num1,\"/\",self.num2)\n",
        "    print(self.num1/self.num2)\n",
        "  \n",
        "a=División(5,2)\n",
        "a.imprimir()"
      ],
      "metadata": {
        "colab": {
          "base_uri": "https://localhost:8080/"
        },
        "id": "WAuJM7IbIl6h",
        "outputId": "03f4deb2-4f2d-4159-ebaa-9714ee9e8a10"
      },
      "execution_count": null,
      "outputs": [
        {
          "output_type": "stream",
          "name": "stdout",
          "text": [
            "5 / 2\n",
            "2.5\n"
          ]
        }
      ]
    },
    {
      "cell_type": "code",
      "source": [
        "class División:\n",
        "  num1=5\n",
        "  exp=2\n",
        "\n",
        "  def __init__(self,num1=5,exp=2) -> None:\n",
        "    self.num1=num1\n",
        "    self.exp=exp\n",
        "\n",
        "  def imprimir(self):\n",
        "    print(self.num1,\"**\",self.exp)\n",
        "    print(self.num1**self.exp)\n",
        "  \n",
        "a=División(5,2)\n",
        "a.imprimir()"
      ],
      "metadata": {
        "colab": {
          "base_uri": "https://localhost:8080/"
        },
        "id": "jhjgN56aIwzw",
        "outputId": "4e8599b9-798b-4e68-d191-45d9354e78af"
      },
      "execution_count": null,
      "outputs": [
        {
          "output_type": "stream",
          "name": "stdout",
          "text": [
            "5 ** 2\n",
            "25\n"
          ]
        }
      ]
    }
  ]
}